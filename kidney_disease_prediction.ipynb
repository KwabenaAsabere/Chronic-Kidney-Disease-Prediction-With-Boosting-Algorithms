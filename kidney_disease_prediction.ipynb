{
 "cells": [
  {
   "cell_type": "markdown",
   "id": "c9434a1b",
   "metadata": {},
   "source": [
    "---\n",
    "title: \"CHRONIC KIDNEY DISEASE PREDICTION USING BOOSTING ALGORITHMS\"\n",
    "author: \"Asabere Kwabena Asante\"\n",
    "df-print: kable\n",
    "code-overflow: wrap\n",
    "execute: \n",
    "  echo: true\n",
    "  warning: false\n",
    "  message: false\n",
    "format: html\n",
    "editor: visual\n",
    "editor_options: \n",
    "  chunk_output_type: console\n",
    "---"
   ]
  },
  {
   "cell_type": "code",
   "execution_count": 2,
   "id": "f1a5b564",
   "metadata": {},
   "outputs": [],
   "source": [
    "import pandas as pd\n",
    "import matplotlib.pyplot as plt\n",
    "import seaborn as sns\n",
    "import numpy as np"
   ]
  },
  {
   "cell_type": "code",
   "execution_count": 19,
   "id": "238e20ea",
   "metadata": {},
   "outputs": [],
   "source": [
    "from sklearn.model_selection import train_test_split,GridSearchCV\n",
    "from sklearn.preprocessing import StandardScaler,OneHotEncoder\n",
    "from sklearn.impute import SimpleImputer\n",
    "from sklearn.pipeline import Pipeline\n",
    "from sklearn.compose import ColumnTransformer,make_column_selector\n",
    "from sklearn.ensemble import HistGradientBoostingClassifier\n",
    "from sklearn.ensemble import AdaBoostClassifier\n",
    "from xgboost import XGBClassifier\n",
    "from sklearn.metrics import classification_report, confusion_matrix, roc_auc_score, roc_curve,auc\n"
   ]
  },
  {
   "cell_type": "code",
   "execution_count": 4,
   "id": "468b1bca",
   "metadata": {},
   "outputs": [],
   "source": [
    "## load the chronic kidney disease dataset\n",
    "kidneydx = pd.read_csv(r\"C:\\Users\\KAsab\\Desktop\\PORTFOLIO PROJECTS\\Chronic_Kidney_Dsease_data.csv\")"
   ]
  },
  {
   "cell_type": "code",
   "execution_count": 5,
   "id": "7c40539b",
   "metadata": {},
   "outputs": [
    {
     "data": {
      "application/vnd.microsoft.datawrangler.viewer.v0+json": {
       "columns": [
        {
         "name": "index",
         "rawType": "int64",
         "type": "integer"
        },
        {
         "name": "PatientID",
         "rawType": "int64",
         "type": "integer"
        },
        {
         "name": "Age",
         "rawType": "int64",
         "type": "integer"
        },
        {
         "name": "Gender",
         "rawType": "int64",
         "type": "integer"
        },
        {
         "name": "Ethnicity",
         "rawType": "int64",
         "type": "integer"
        },
        {
         "name": "SocioeconomicStatus",
         "rawType": "int64",
         "type": "integer"
        },
        {
         "name": "EducationLevel",
         "rawType": "int64",
         "type": "integer"
        },
        {
         "name": "BMI",
         "rawType": "float64",
         "type": "float"
        },
        {
         "name": "Smoking",
         "rawType": "int64",
         "type": "integer"
        },
        {
         "name": "AlcoholConsumption",
         "rawType": "float64",
         "type": "float"
        },
        {
         "name": "PhysicalActivity",
         "rawType": "float64",
         "type": "float"
        },
        {
         "name": "DietQuality",
         "rawType": "float64",
         "type": "float"
        },
        {
         "name": "SleepQuality",
         "rawType": "float64",
         "type": "float"
        },
        {
         "name": "FamilyHistoryKidneyDisease",
         "rawType": "int64",
         "type": "integer"
        },
        {
         "name": "FamilyHistoryHypertension",
         "rawType": "int64",
         "type": "integer"
        },
        {
         "name": "FamilyHistoryDiabetes",
         "rawType": "int64",
         "type": "integer"
        },
        {
         "name": "PreviousAcuteKidneyInjury",
         "rawType": "int64",
         "type": "integer"
        },
        {
         "name": "UrinaryTractInfections",
         "rawType": "int64",
         "type": "integer"
        },
        {
         "name": "SystolicBP",
         "rawType": "int64",
         "type": "integer"
        },
        {
         "name": "DiastolicBP",
         "rawType": "int64",
         "type": "integer"
        },
        {
         "name": "FastingBloodSugar",
         "rawType": "float64",
         "type": "float"
        },
        {
         "name": "HbA1c",
         "rawType": "float64",
         "type": "float"
        },
        {
         "name": "SerumCreatinine",
         "rawType": "float64",
         "type": "float"
        },
        {
         "name": "BUNLevels",
         "rawType": "float64",
         "type": "float"
        },
        {
         "name": "GFR",
         "rawType": "float64",
         "type": "float"
        },
        {
         "name": "ProteinInUrine",
         "rawType": "float64",
         "type": "float"
        },
        {
         "name": "ACR",
         "rawType": "float64",
         "type": "float"
        },
        {
         "name": "SerumElectrolytesSodium",
         "rawType": "float64",
         "type": "float"
        },
        {
         "name": "SerumElectrolytesPotassium",
         "rawType": "float64",
         "type": "float"
        },
        {
         "name": "SerumElectrolytesCalcium",
         "rawType": "float64",
         "type": "float"
        },
        {
         "name": "SerumElectrolytesPhosphorus",
         "rawType": "float64",
         "type": "float"
        },
        {
         "name": "HemoglobinLevels",
         "rawType": "float64",
         "type": "float"
        },
        {
         "name": "CholesterolTotal",
         "rawType": "float64",
         "type": "float"
        },
        {
         "name": "CholesterolLDL",
         "rawType": "float64",
         "type": "float"
        },
        {
         "name": "CholesterolHDL",
         "rawType": "float64",
         "type": "float"
        },
        {
         "name": "CholesterolTriglycerides",
         "rawType": "float64",
         "type": "float"
        },
        {
         "name": "ACEInhibitors",
         "rawType": "int64",
         "type": "integer"
        },
        {
         "name": "Diuretics",
         "rawType": "int64",
         "type": "integer"
        },
        {
         "name": "NSAIDsUse",
         "rawType": "float64",
         "type": "float"
        },
        {
         "name": "Statins",
         "rawType": "int64",
         "type": "integer"
        },
        {
         "name": "AntidiabeticMedications",
         "rawType": "int64",
         "type": "integer"
        },
        {
         "name": "Edema",
         "rawType": "int64",
         "type": "integer"
        },
        {
         "name": "FatigueLevels",
         "rawType": "float64",
         "type": "float"
        },
        {
         "name": "NauseaVomiting",
         "rawType": "float64",
         "type": "float"
        },
        {
         "name": "MuscleCramps",
         "rawType": "float64",
         "type": "float"
        },
        {
         "name": "Itching",
         "rawType": "float64",
         "type": "float"
        },
        {
         "name": "QualityOfLifeScore",
         "rawType": "float64",
         "type": "float"
        },
        {
         "name": "HeavyMetalsExposure",
         "rawType": "int64",
         "type": "integer"
        },
        {
         "name": "OccupationalExposureChemicals",
         "rawType": "int64",
         "type": "integer"
        },
        {
         "name": "WaterQuality",
         "rawType": "int64",
         "type": "integer"
        },
        {
         "name": "MedicalCheckupsFrequency",
         "rawType": "float64",
         "type": "float"
        },
        {
         "name": "MedicationAdherence",
         "rawType": "float64",
         "type": "float"
        },
        {
         "name": "HealthLiteracy",
         "rawType": "float64",
         "type": "float"
        },
        {
         "name": "Diagnosis",
         "rawType": "int64",
         "type": "integer"
        },
        {
         "name": "DoctorInCharge",
         "rawType": "object",
         "type": "string"
        }
       ],
       "ref": "e904adbb-651e-4c4f-be7a-30931fffeaba",
       "rows": [
        [
         "0",
         "1",
         "71",
         "0",
         "0",
         "0",
         "2",
         "31.069413751496626",
         "1",
         "5.128111860165678",
         "1.676219707554013",
         "0.2403855590585835",
         "4.07643366002329",
         "0",
         "0",
         "0",
         "0",
         "0",
         "113",
         "83",
         "72.51078814507137",
         "9.212396779947902",
         "4.962530972901806",
         "25.60594901833181",
         "45.70320383652218",
         "0.7449795078548022",
         "123.8494259348664",
         "137.65250064956632",
         "3.62605770574255",
         "10.314419701061096",
         "3.1526483179421385",
         "16.114678502827566",
         "207.7286696841286",
         "85.86365584750823",
         "21.967957262270723",
         "212.0952147523388",
         "0",
         "0",
         "4.56313926489051",
         "1",
         "0",
         "0",
         "3.563893932541987",
         "6.992243742388448",
         "4.518513249801526",
         "7.556302263012027",
         "76.07679981465142",
         "0",
         "0",
         "1",
         "1.0188237954938262",
         "4.966807653030387",
         "9.871448837720148",
         "1",
         "Confidential"
        ],
        [
         "1",
         "2",
         "34",
         "0",
         "0",
         "1",
         "3",
         "29.69211875987527",
         "1",
         "18.609551839273365",
         "8.377574453503394",
         "6.503233231174055",
         "7.652812554990977",
         "1",
         "1",
         "0",
         "0",
         "0",
         "120",
         "67",
         "100.84887469216608",
         "4.604988873173652",
         "3.1567989468187747",
         "31.33816594542174",
         "55.78450390829086",
         "3.0523166948423803",
         "88.53909534990494",
         "138.14133516925406",
         "5.332871044352616",
         "9.604195973974797",
         "2.855442947696554",
         "15.349205419481248",
         "189.4507265961548",
         "86.3786704245",
         "87.56975604945353",
         "255.45131448174124",
         "0",
         "0",
         "9.09700222416452",
         "0",
         "0",
         "0",
         "5.327335685966218",
         "0.3562898004231976",
         "2.202221794018448",
         "6.836766019803885",
         "40.12849780286079",
         "0",
         "0",
         "0",
         "3.9235377092953208",
         "8.189274849357018",
         "7.161765420511968",
         "1",
         "Confidential"
        ],
        [
         "2",
         "3",
         "80",
         "1",
         "1",
         "0",
         "1",
         "37.394821822367646",
         "1",
         "11.882429329983765",
         "9.6074010958625",
         "2.104828362926588",
         "4.392786112885876",
         "0",
         "0",
         "0",
         "0",
         "0",
         "147",
         "106",
         "160.9894407289949",
         "5.432598500572253",
         "3.698235829712351",
         "39.7381689347343",
         "67.55903241938",
         "1.1578385613324866",
         "21.170891555101644",
         "142.9701159993533",
         "4.330890632684446",
         "9.88578620789425",
         "4.353512595445213",
         "13.018833834318952",
         "284.1376220672606",
         "132.2698720262316",
         "20.04979764521376",
         "251.90258322647463",
         "0",
         "1",
         "3.85124855718713",
         "1",
         "0",
         "0",
         "4.855419980541074",
         "4.6740688990534505",
         "5.967271322361959",
         "2.1447222323209103",
         "92.87284185823506",
         "0",
         "1",
         "1",
         "1.4299059470829305",
         "7.624027564191151",
         "7.3546322726094",
         "1",
         "Confidential"
        ],
        [
         "3",
         "4",
         "40",
         "0",
         "2",
         "0",
         "1",
         "31.32967972894531",
         "0",
         "16.02016486395832",
         "0.4088709749066954",
         "6.964422090375577",
         "6.282273622230839",
         "0",
         "0",
         "0",
         "0",
         "0",
         "117",
         "65",
         "188.50662039745492",
         "4.144466009958969",
         "2.8684676162104177",
         "21.98095766870926",
         "33.20254160070842",
         "3.745870556475123",
         "123.77969905392862",
         "137.10691346846085",
         "3.810740974843696",
         "9.99589387918131",
         "4.016133566344072",
         "15.056338896434127",
         "235.11212447865495",
         "93.44366867075402",
         "58.26029084060349",
         "392.3384252224855",
         "0",
         "0",
         "7.881764677403219",
         "0",
         "0",
         "0",
         "8.531684871920532",
         "5.691454583321752",
         "2.176386598890661",
         "7.077188483320191",
         "90.0803205731812",
         "0",
         "0",
         "0",
         "3.2264163880551933",
         "3.282688137894195",
         "6.629586538137147",
         "1",
         "Confidential"
        ],
        [
         "4",
         "5",
         "43",
         "0",
         "1",
         "1",
         "2",
         "23.726310611538786",
         "0",
         "7.944146086137945",
         "0.7803187065385531",
         "3.0977956664779613",
         "4.021638616638769",
         "0",
         "0",
         "0",
         "0",
         "0",
         "98",
         "66",
         "82.15669863612956",
         "4.262979072666645",
         "3.964876906782437",
         "12.216366297919285",
         "56.31908157813324",
         "2.570993462976364",
         "184.85204562394404",
         "140.6278122748604",
         "4.866765378870388",
         "8.90762245492045",
         "3.9479067932885448",
         "16.690561367000903",
         "258.27756602621093",
         "171.75835592520326",
         "21.583212610676547",
         "370.523877431207",
         "1",
         "1",
         "4.179458574883936",
         "1",
         "0",
         "0",
         "1.4223198707676998",
         "2.273459082725929",
         "6.800992656653414",
         "3.553117574647391",
         "5.258372391334865",
         "0",
         "0",
         "1",
         "0.2854656082570361",
         "3.84949812705199",
         "1.4373846962808925",
         "1",
         "Confidential"
        ]
       ],
       "shape": {
        "columns": 54,
        "rows": 5
       }
      },
      "text/html": [
       "<div>\n",
       "<style scoped>\n",
       "    .dataframe tbody tr th:only-of-type {\n",
       "        vertical-align: middle;\n",
       "    }\n",
       "\n",
       "    .dataframe tbody tr th {\n",
       "        vertical-align: top;\n",
       "    }\n",
       "\n",
       "    .dataframe thead th {\n",
       "        text-align: right;\n",
       "    }\n",
       "</style>\n",
       "<table border=\"1\" class=\"dataframe\">\n",
       "  <thead>\n",
       "    <tr style=\"text-align: right;\">\n",
       "      <th></th>\n",
       "      <th>PatientID</th>\n",
       "      <th>Age</th>\n",
       "      <th>Gender</th>\n",
       "      <th>Ethnicity</th>\n",
       "      <th>SocioeconomicStatus</th>\n",
       "      <th>EducationLevel</th>\n",
       "      <th>BMI</th>\n",
       "      <th>Smoking</th>\n",
       "      <th>AlcoholConsumption</th>\n",
       "      <th>PhysicalActivity</th>\n",
       "      <th>...</th>\n",
       "      <th>Itching</th>\n",
       "      <th>QualityOfLifeScore</th>\n",
       "      <th>HeavyMetalsExposure</th>\n",
       "      <th>OccupationalExposureChemicals</th>\n",
       "      <th>WaterQuality</th>\n",
       "      <th>MedicalCheckupsFrequency</th>\n",
       "      <th>MedicationAdherence</th>\n",
       "      <th>HealthLiteracy</th>\n",
       "      <th>Diagnosis</th>\n",
       "      <th>DoctorInCharge</th>\n",
       "    </tr>\n",
       "  </thead>\n",
       "  <tbody>\n",
       "    <tr>\n",
       "      <th>0</th>\n",
       "      <td>1</td>\n",
       "      <td>71</td>\n",
       "      <td>0</td>\n",
       "      <td>0</td>\n",
       "      <td>0</td>\n",
       "      <td>2</td>\n",
       "      <td>31.069414</td>\n",
       "      <td>1</td>\n",
       "      <td>5.128112</td>\n",
       "      <td>1.676220</td>\n",
       "      <td>...</td>\n",
       "      <td>7.556302</td>\n",
       "      <td>76.076800</td>\n",
       "      <td>0</td>\n",
       "      <td>0</td>\n",
       "      <td>1</td>\n",
       "      <td>1.018824</td>\n",
       "      <td>4.966808</td>\n",
       "      <td>9.871449</td>\n",
       "      <td>1</td>\n",
       "      <td>Confidential</td>\n",
       "    </tr>\n",
       "    <tr>\n",
       "      <th>1</th>\n",
       "      <td>2</td>\n",
       "      <td>34</td>\n",
       "      <td>0</td>\n",
       "      <td>0</td>\n",
       "      <td>1</td>\n",
       "      <td>3</td>\n",
       "      <td>29.692119</td>\n",
       "      <td>1</td>\n",
       "      <td>18.609552</td>\n",
       "      <td>8.377574</td>\n",
       "      <td>...</td>\n",
       "      <td>6.836766</td>\n",
       "      <td>40.128498</td>\n",
       "      <td>0</td>\n",
       "      <td>0</td>\n",
       "      <td>0</td>\n",
       "      <td>3.923538</td>\n",
       "      <td>8.189275</td>\n",
       "      <td>7.161765</td>\n",
       "      <td>1</td>\n",
       "      <td>Confidential</td>\n",
       "    </tr>\n",
       "    <tr>\n",
       "      <th>2</th>\n",
       "      <td>3</td>\n",
       "      <td>80</td>\n",
       "      <td>1</td>\n",
       "      <td>1</td>\n",
       "      <td>0</td>\n",
       "      <td>1</td>\n",
       "      <td>37.394822</td>\n",
       "      <td>1</td>\n",
       "      <td>11.882429</td>\n",
       "      <td>9.607401</td>\n",
       "      <td>...</td>\n",
       "      <td>2.144722</td>\n",
       "      <td>92.872842</td>\n",
       "      <td>0</td>\n",
       "      <td>1</td>\n",
       "      <td>1</td>\n",
       "      <td>1.429906</td>\n",
       "      <td>7.624028</td>\n",
       "      <td>7.354632</td>\n",
       "      <td>1</td>\n",
       "      <td>Confidential</td>\n",
       "    </tr>\n",
       "    <tr>\n",
       "      <th>3</th>\n",
       "      <td>4</td>\n",
       "      <td>40</td>\n",
       "      <td>0</td>\n",
       "      <td>2</td>\n",
       "      <td>0</td>\n",
       "      <td>1</td>\n",
       "      <td>31.329680</td>\n",
       "      <td>0</td>\n",
       "      <td>16.020165</td>\n",
       "      <td>0.408871</td>\n",
       "      <td>...</td>\n",
       "      <td>7.077188</td>\n",
       "      <td>90.080321</td>\n",
       "      <td>0</td>\n",
       "      <td>0</td>\n",
       "      <td>0</td>\n",
       "      <td>3.226416</td>\n",
       "      <td>3.282688</td>\n",
       "      <td>6.629587</td>\n",
       "      <td>1</td>\n",
       "      <td>Confidential</td>\n",
       "    </tr>\n",
       "    <tr>\n",
       "      <th>4</th>\n",
       "      <td>5</td>\n",
       "      <td>43</td>\n",
       "      <td>0</td>\n",
       "      <td>1</td>\n",
       "      <td>1</td>\n",
       "      <td>2</td>\n",
       "      <td>23.726311</td>\n",
       "      <td>0</td>\n",
       "      <td>7.944146</td>\n",
       "      <td>0.780319</td>\n",
       "      <td>...</td>\n",
       "      <td>3.553118</td>\n",
       "      <td>5.258372</td>\n",
       "      <td>0</td>\n",
       "      <td>0</td>\n",
       "      <td>1</td>\n",
       "      <td>0.285466</td>\n",
       "      <td>3.849498</td>\n",
       "      <td>1.437385</td>\n",
       "      <td>1</td>\n",
       "      <td>Confidential</td>\n",
       "    </tr>\n",
       "  </tbody>\n",
       "</table>\n",
       "<p>5 rows × 54 columns</p>\n",
       "</div>"
      ],
      "text/plain": [
       "   PatientID  Age  Gender  Ethnicity  SocioeconomicStatus  EducationLevel  \\\n",
       "0          1   71       0          0                    0               2   \n",
       "1          2   34       0          0                    1               3   \n",
       "2          3   80       1          1                    0               1   \n",
       "3          4   40       0          2                    0               1   \n",
       "4          5   43       0          1                    1               2   \n",
       "\n",
       "         BMI  Smoking  AlcoholConsumption  PhysicalActivity  ...   Itching  \\\n",
       "0  31.069414        1            5.128112          1.676220  ...  7.556302   \n",
       "1  29.692119        1           18.609552          8.377574  ...  6.836766   \n",
       "2  37.394822        1           11.882429          9.607401  ...  2.144722   \n",
       "3  31.329680        0           16.020165          0.408871  ...  7.077188   \n",
       "4  23.726311        0            7.944146          0.780319  ...  3.553118   \n",
       "\n",
       "   QualityOfLifeScore  HeavyMetalsExposure  OccupationalExposureChemicals  \\\n",
       "0           76.076800                    0                              0   \n",
       "1           40.128498                    0                              0   \n",
       "2           92.872842                    0                              1   \n",
       "3           90.080321                    0                              0   \n",
       "4            5.258372                    0                              0   \n",
       "\n",
       "   WaterQuality  MedicalCheckupsFrequency  MedicationAdherence  \\\n",
       "0             1                  1.018824             4.966808   \n",
       "1             0                  3.923538             8.189275   \n",
       "2             1                  1.429906             7.624028   \n",
       "3             0                  3.226416             3.282688   \n",
       "4             1                  0.285466             3.849498   \n",
       "\n",
       "   HealthLiteracy  Diagnosis  DoctorInCharge  \n",
       "0        9.871449          1    Confidential  \n",
       "1        7.161765          1    Confidential  \n",
       "2        7.354632          1    Confidential  \n",
       "3        6.629587          1    Confidential  \n",
       "4        1.437385          1    Confidential  \n",
       "\n",
       "[5 rows x 54 columns]"
      ]
     },
     "execution_count": 5,
     "metadata": {},
     "output_type": "execute_result"
    }
   ],
   "source": [
    "kidneydx.head()"
   ]
  },
  {
   "cell_type": "code",
   "execution_count": 6,
   "id": "1935bb04",
   "metadata": {},
   "outputs": [
    {
     "name": "stdout",
     "output_type": "stream",
     "text": [
      "<class 'pandas.core.frame.DataFrame'>\n",
      "RangeIndex: 1659 entries, 0 to 1658\n",
      "Data columns (total 54 columns):\n",
      " #   Column                         Non-Null Count  Dtype  \n",
      "---  ------                         --------------  -----  \n",
      " 0   PatientID                      1659 non-null   int64  \n",
      " 1   Age                            1659 non-null   int64  \n",
      " 2   Gender                         1659 non-null   int64  \n",
      " 3   Ethnicity                      1659 non-null   int64  \n",
      " 4   SocioeconomicStatus            1659 non-null   int64  \n",
      " 5   EducationLevel                 1659 non-null   int64  \n",
      " 6   BMI                            1659 non-null   float64\n",
      " 7   Smoking                        1659 non-null   int64  \n",
      " 8   AlcoholConsumption             1659 non-null   float64\n",
      " 9   PhysicalActivity               1659 non-null   float64\n",
      " 10  DietQuality                    1659 non-null   float64\n",
      " 11  SleepQuality                   1659 non-null   float64\n",
      " 12  FamilyHistoryKidneyDisease     1659 non-null   int64  \n",
      " 13  FamilyHistoryHypertension      1659 non-null   int64  \n",
      " 14  FamilyHistoryDiabetes          1659 non-null   int64  \n",
      " 15  PreviousAcuteKidneyInjury      1659 non-null   int64  \n",
      " 16  UrinaryTractInfections         1659 non-null   int64  \n",
      " 17  SystolicBP                     1659 non-null   int64  \n",
      " 18  DiastolicBP                    1659 non-null   int64  \n",
      " 19  FastingBloodSugar              1659 non-null   float64\n",
      " 20  HbA1c                          1659 non-null   float64\n",
      " 21  SerumCreatinine                1659 non-null   float64\n",
      " 22  BUNLevels                      1659 non-null   float64\n",
      " 23  GFR                            1659 non-null   float64\n",
      " 24  ProteinInUrine                 1659 non-null   float64\n",
      " 25  ACR                            1659 non-null   float64\n",
      " 26  SerumElectrolytesSodium        1659 non-null   float64\n",
      " 27  SerumElectrolytesPotassium     1659 non-null   float64\n",
      " 28  SerumElectrolytesCalcium       1659 non-null   float64\n",
      " 29  SerumElectrolytesPhosphorus    1659 non-null   float64\n",
      " 30  HemoglobinLevels               1659 non-null   float64\n",
      " 31  CholesterolTotal               1659 non-null   float64\n",
      " 32  CholesterolLDL                 1659 non-null   float64\n",
      " 33  CholesterolHDL                 1659 non-null   float64\n",
      " 34  CholesterolTriglycerides       1659 non-null   float64\n",
      " 35  ACEInhibitors                  1659 non-null   int64  \n",
      " 36  Diuretics                      1659 non-null   int64  \n",
      " 37  NSAIDsUse                      1659 non-null   float64\n",
      " 38  Statins                        1659 non-null   int64  \n",
      " 39  AntidiabeticMedications        1659 non-null   int64  \n",
      " 40  Edema                          1659 non-null   int64  \n",
      " 41  FatigueLevels                  1659 non-null   float64\n",
      " 42  NauseaVomiting                 1659 non-null   float64\n",
      " 43  MuscleCramps                   1659 non-null   float64\n",
      " 44  Itching                        1659 non-null   float64\n",
      " 45  QualityOfLifeScore             1659 non-null   float64\n",
      " 46  HeavyMetalsExposure            1659 non-null   int64  \n",
      " 47  OccupationalExposureChemicals  1659 non-null   int64  \n",
      " 48  WaterQuality                   1659 non-null   int64  \n",
      " 49  MedicalCheckupsFrequency       1659 non-null   float64\n",
      " 50  MedicationAdherence            1659 non-null   float64\n",
      " 51  HealthLiteracy                 1659 non-null   float64\n",
      " 52  Diagnosis                      1659 non-null   int64  \n",
      " 53  DoctorInCharge                 1659 non-null   object \n",
      "dtypes: float64(30), int64(23), object(1)\n",
      "memory usage: 700.0+ KB\n"
     ]
    }
   ],
   "source": [
    "kidneydx.info()"
   ]
  },
  {
   "cell_type": "markdown",
   "id": "6ece438f",
   "metadata": {},
   "source": [
    "### **Preprocessing**"
   ]
  },
  {
   "cell_type": "code",
   "execution_count": 7,
   "id": "1e74b2bf",
   "metadata": {},
   "outputs": [
    {
     "data": {
      "text/plain": [
       "(1659, 54)"
      ]
     },
     "execution_count": 7,
     "metadata": {},
     "output_type": "execute_result"
    }
   ],
   "source": [
    "kidneydx.shape"
   ]
  },
  {
   "cell_type": "code",
   "execution_count": 8,
   "id": "803d6de8",
   "metadata": {},
   "outputs": [
    {
     "data": {
      "application/vnd.microsoft.datawrangler.viewer.v0+json": {
       "columns": [
        {
         "name": "index",
         "rawType": "object",
         "type": "string"
        },
        {
         "name": "0",
         "rawType": "int64",
         "type": "integer"
        }
       ],
       "ref": "bac0fd7b-8fd4-4e61-9e97-744e17e01e0b",
       "rows": [
        [
         "PatientID",
         "0"
        ],
        [
         "Age",
         "0"
        ],
        [
         "Gender",
         "0"
        ],
        [
         "Ethnicity",
         "0"
        ],
        [
         "SocioeconomicStatus",
         "0"
        ],
        [
         "EducationLevel",
         "0"
        ],
        [
         "BMI",
         "0"
        ],
        [
         "Smoking",
         "0"
        ],
        [
         "AlcoholConsumption",
         "0"
        ],
        [
         "PhysicalActivity",
         "0"
        ],
        [
         "DietQuality",
         "0"
        ],
        [
         "SleepQuality",
         "0"
        ],
        [
         "FamilyHistoryKidneyDisease",
         "0"
        ],
        [
         "FamilyHistoryHypertension",
         "0"
        ],
        [
         "FamilyHistoryDiabetes",
         "0"
        ],
        [
         "PreviousAcuteKidneyInjury",
         "0"
        ],
        [
         "UrinaryTractInfections",
         "0"
        ],
        [
         "SystolicBP",
         "0"
        ],
        [
         "DiastolicBP",
         "0"
        ],
        [
         "FastingBloodSugar",
         "0"
        ],
        [
         "HbA1c",
         "0"
        ],
        [
         "SerumCreatinine",
         "0"
        ],
        [
         "BUNLevels",
         "0"
        ],
        [
         "GFR",
         "0"
        ],
        [
         "ProteinInUrine",
         "0"
        ],
        [
         "ACR",
         "0"
        ],
        [
         "SerumElectrolytesSodium",
         "0"
        ],
        [
         "SerumElectrolytesPotassium",
         "0"
        ],
        [
         "SerumElectrolytesCalcium",
         "0"
        ],
        [
         "SerumElectrolytesPhosphorus",
         "0"
        ],
        [
         "HemoglobinLevels",
         "0"
        ],
        [
         "CholesterolTotal",
         "0"
        ],
        [
         "CholesterolLDL",
         "0"
        ],
        [
         "CholesterolHDL",
         "0"
        ],
        [
         "CholesterolTriglycerides",
         "0"
        ],
        [
         "ACEInhibitors",
         "0"
        ],
        [
         "Diuretics",
         "0"
        ],
        [
         "NSAIDsUse",
         "0"
        ],
        [
         "Statins",
         "0"
        ],
        [
         "AntidiabeticMedications",
         "0"
        ],
        [
         "Edema",
         "0"
        ],
        [
         "FatigueLevels",
         "0"
        ],
        [
         "NauseaVomiting",
         "0"
        ],
        [
         "MuscleCramps",
         "0"
        ],
        [
         "Itching",
         "0"
        ],
        [
         "QualityOfLifeScore",
         "0"
        ],
        [
         "HeavyMetalsExposure",
         "0"
        ],
        [
         "OccupationalExposureChemicals",
         "0"
        ],
        [
         "WaterQuality",
         "0"
        ],
        [
         "MedicalCheckupsFrequency",
         "0"
        ]
       ],
       "shape": {
        "columns": 1,
        "rows": 54
       }
      },
      "text/plain": [
       "PatientID                        0\n",
       "Age                              0\n",
       "Gender                           0\n",
       "Ethnicity                        0\n",
       "SocioeconomicStatus              0\n",
       "EducationLevel                   0\n",
       "BMI                              0\n",
       "Smoking                          0\n",
       "AlcoholConsumption               0\n",
       "PhysicalActivity                 0\n",
       "DietQuality                      0\n",
       "SleepQuality                     0\n",
       "FamilyHistoryKidneyDisease       0\n",
       "FamilyHistoryHypertension        0\n",
       "FamilyHistoryDiabetes            0\n",
       "PreviousAcuteKidneyInjury        0\n",
       "UrinaryTractInfections           0\n",
       "SystolicBP                       0\n",
       "DiastolicBP                      0\n",
       "FastingBloodSugar                0\n",
       "HbA1c                            0\n",
       "SerumCreatinine                  0\n",
       "BUNLevels                        0\n",
       "GFR                              0\n",
       "ProteinInUrine                   0\n",
       "ACR                              0\n",
       "SerumElectrolytesSodium          0\n",
       "SerumElectrolytesPotassium       0\n",
       "SerumElectrolytesCalcium         0\n",
       "SerumElectrolytesPhosphorus      0\n",
       "HemoglobinLevels                 0\n",
       "CholesterolTotal                 0\n",
       "CholesterolLDL                   0\n",
       "CholesterolHDL                   0\n",
       "CholesterolTriglycerides         0\n",
       "ACEInhibitors                    0\n",
       "Diuretics                        0\n",
       "NSAIDsUse                        0\n",
       "Statins                          0\n",
       "AntidiabeticMedications          0\n",
       "Edema                            0\n",
       "FatigueLevels                    0\n",
       "NauseaVomiting                   0\n",
       "MuscleCramps                     0\n",
       "Itching                          0\n",
       "QualityOfLifeScore               0\n",
       "HeavyMetalsExposure              0\n",
       "OccupationalExposureChemicals    0\n",
       "WaterQuality                     0\n",
       "MedicalCheckupsFrequency         0\n",
       "MedicationAdherence              0\n",
       "HealthLiteracy                   0\n",
       "Diagnosis                        0\n",
       "DoctorInCharge                   0\n",
       "dtype: int64"
      ]
     },
     "execution_count": 8,
     "metadata": {},
     "output_type": "execute_result"
    }
   ],
   "source": [
    "## check for missing values\n",
    "kidneydx.isnull().sum()"
   ]
  },
  {
   "cell_type": "code",
   "execution_count": 9,
   "id": "789e2657",
   "metadata": {},
   "outputs": [
    {
     "data": {
      "application/vnd.microsoft.datawrangler.viewer.v0+json": {
       "columns": [
        {
         "name": "Diagnosis",
         "rawType": "int64",
         "type": "integer"
        },
        {
         "name": "count",
         "rawType": "int64",
         "type": "integer"
        }
       ],
       "ref": "a9de2b6e-8cb9-46b6-80d6-8f1fc033ebbc",
       "rows": [
        [
         "1",
         "1524"
        ],
        [
         "0",
         "135"
        ]
       ],
       "shape": {
        "columns": 1,
        "rows": 2
       }
      },
      "text/plain": [
       "Diagnosis\n",
       "1    1524\n",
       "0     135\n",
       "Name: count, dtype: int64"
      ]
     },
     "execution_count": 9,
     "metadata": {},
     "output_type": "execute_result"
    }
   ],
   "source": [
    "kidneydx['Diagnosis'].value_counts()"
   ]
  },
  {
   "cell_type": "code",
   "execution_count": 10,
   "id": "af9bfa2f",
   "metadata": {},
   "outputs": [],
   "source": [
    "## divide dataset into features and target variables\n",
    "X = kidneydx.iloc[:,1:-2]\n",
    "y = kidneydx.iloc[:,-2]\n",
    "\n"
   ]
  },
  {
   "cell_type": "code",
   "execution_count": null,
   "id": "caebcd50",
   "metadata": {},
   "outputs": [],
   "source": []
  },
  {
   "cell_type": "code",
   "execution_count": 11,
   "id": "1a86873e",
   "metadata": {},
   "outputs": [],
   "source": [
    "## split the features unto training and test sets\n",
    "X_train, X_test, y_train, y_test = train_test_split(\n",
    "    X, y, test_size=0.2, stratify=y, random_state=42\n",
    ")"
   ]
  },
  {
   "cell_type": "markdown",
   "id": "7cb6bce3",
   "metadata": {},
   "source": [
    "#### *Preprocessing Pipeline*"
   ]
  },
  {
   "cell_type": "code",
   "execution_count": 12,
   "id": "d9483945",
   "metadata": {},
   "outputs": [],
   "source": [
    "# Numeric pipeline\n",
    "numeric_pipeline = Pipeline(steps=[\n",
    "    ('imputer', SimpleImputer(strategy='mean')),\n",
    "    ('scaler', StandardScaler())\n",
    "])\n",
    "\n",
    "# Categorical pipeline\n",
    "categorical_pipeline = Pipeline(steps=[\n",
    "    ('imputer', SimpleImputer(strategy='most_frequent')),\n",
    "    ('encoder', OneHotEncoder(handle_unknown='ignore',sparse_output=False))\n",
    "])\n",
    "\n",
    "# ColumnTransformer\n",
    "preprocessor = ColumnTransformer(transformers=[\n",
    "    ('num', numeric_pipeline,make_column_selector(dtype_include=np.number)),\n",
    "    ('cat', categorical_pipeline,make_column_selector(dtype_include=object))\n",
    "])\n",
    "\n",
    "# Fit and transform training data, transform test data\n",
    "X_train_processed = preprocessor.fit_transform(X_train)\n",
    "X_test_processed = preprocessor.transform(X_test)"
   ]
  },
  {
   "cell_type": "markdown",
   "id": "7e841cf3",
   "metadata": {},
   "source": [
    "### **Model Building**"
   ]
  },
  {
   "cell_type": "code",
   "execution_count": 13,
   "id": "e6167ce5",
   "metadata": {},
   "outputs": [],
   "source": [
    "## Build a dictionary of models and hyperparameters \n",
    "## XGBoost,AdaBoost and Histogram Gradient Boosting\n",
    "\n",
    "models = {\n",
    "    \"XGBoost\": (\n",
    "        Pipeline([\n",
    "            ('preprocess', preprocessor),\n",
    "            ('clf', XGBClassifier(eval_metric='logloss', use_label_encoder=False, random_state=42))\n",
    "        ]),\n",
    "        {\n",
    "            'clf__n_estimators': [100, 200],\n",
    "            'clf__max_depth': [3, 5, 7]\n",
    "        }\n",
    "    ),\n",
    "    \"AdaBoost\": (\n",
    "        Pipeline([\n",
    "            ('preprocess', preprocessor),\n",
    "            ('clf', AdaBoostClassifier(random_state=42))\n",
    "        ]),\n",
    "        {\n",
    "            'clf__n_estimators': [50, 100],\n",
    "            'clf__learning_rate': [0.5, 1.0, 1.5]\n",
    "        }\n",
    "    ),\n",
    "    \"HistGradientBoosting\": (\n",
    "        Pipeline([\n",
    "            ('preprocess', preprocessor),\n",
    "            ('clf', HistGradientBoostingClassifier(random_state=42))\n",
    "        ]),\n",
    "        {\n",
    "            'clf__learning_rate': [0.05, 0.1],\n",
    "            'clf__max_iter': [100, 200],\n",
    "            'clf__max_depth': [3, 5, None]\n",
    "        }\n",
    "    )\n",
    "}\n"
   ]
  },
  {
   "cell_type": "code",
   "execution_count": 14,
   "id": "b8ed9834",
   "metadata": {},
   "outputs": [
    {
     "name": "stderr",
     "output_type": "stream",
     "text": [
      "c:\\Users\\KAsab\\anaconda3\\Lib\\site-packages\\xgboost\\core.py:158: UserWarning: [23:34:47] WARNING: C:\\buildkite-agent\\builds\\buildkite-windows-cpu-autoscaling-group-i-0ed59c031377d09b8-1\\xgboost\\xgboost-ci-windows\\src\\learner.cc:740: \n",
      "Parameters: { \"use_label_encoder\" } are not used.\n",
      "\n",
      "  warnings.warn(smsg, UserWarning)\n"
     ]
    },
    {
     "name": "stdout",
     "output_type": "stream",
     "text": [
      "XGBoost Best AUC: 0.851\n"
     ]
    },
    {
     "name": "stderr",
     "output_type": "stream",
     "text": [
      "c:\\Users\\KAsab\\anaconda3\\Lib\\site-packages\\sklearn\\ensemble\\_weight_boosting.py:519: FutureWarning: The SAMME.R algorithm (the default) is deprecated and will be removed in 1.6. Use the SAMME algorithm to circumvent this warning.\n",
      "  warnings.warn(\n"
     ]
    },
    {
     "name": "stdout",
     "output_type": "stream",
     "text": [
      "AdaBoost Best AUC: 0.791\n",
      "HistGradientBoosting Best AUC: 0.853\n"
     ]
    }
   ],
   "source": [
    "## train models and select best model from each gradient boosting algorithm\n",
    "from sklearn.model_selection import GridSearchCV\n",
    "\n",
    "best_models = {}\n",
    "\n",
    "for name, (pipeline, params) in models.items():\n",
    "    grid = GridSearchCV(pipeline, param_grid=params, scoring='roc_auc', cv=5, n_jobs=-1)\n",
    "    grid.fit(X_train, y_train)\n",
    "    best_models[name] = grid.best_estimator_\n",
    "    print(f\"{name} Best AUC: {grid.best_score_:.3f}\")\n"
   ]
  },
  {
   "cell_type": "markdown",
   "id": "896fbff7",
   "metadata": {},
   "source": [
    "### ***Precision-Recall Curve, ROC-AUC Curve***"
   ]
  },
  {
   "cell_type": "code",
   "execution_count": 21,
   "id": "9dd3142d",
   "metadata": {},
   "outputs": [],
   "source": [
    "from sklearn.metrics import roc_curve, auc, precision_recall_curve, average_precision_score"
   ]
  },
  {
   "cell_type": "code",
   "execution_count": 15,
   "id": "239e4123",
   "metadata": {},
   "outputs": [],
   "source": [
    "## extract the predicted probabilities of each model\n",
    "y_scores_ada = best_models[\"AdaBoost\"].predict_proba(X_test)[:, 1]\n",
    "y_scores_hist = best_models[\"HistGradientBoosting\"].predict_proba(X_test)[:, 1]\n",
    "y_scores_xgb = best_models[\"XGBoost\"].predict_proba(X_test)[:, 1]  \n"
   ]
  },
  {
   "cell_type": "code",
   "execution_count": 16,
   "id": "65836702",
   "metadata": {},
   "outputs": [],
   "source": [
    "\n",
    "## create a function to plot ROC-AUC Curves and precision Recall Curves\n",
    "# Compute ROC and PR metrics\n",
    "def plot_model_curves(y_test, y_scores_dict):\n",
    "    plt.figure(figsize=(12, 5))\n",
    "\n",
    "    # ROC Curve\n",
    "    plt.subplot(1, 2, 1)\n",
    "    for name, y_scores in y_scores_dict.items():\n",
    "        fpr, tpr, _ = roc_curve(y_test, y_scores)\n",
    "        roc_auc = auc(fpr, tpr)\n",
    "        plt.plot(fpr, tpr, label=f\"{name} (AUC = {roc_auc:.2f})\")\n",
    "    plt.plot([0, 1], [0, 1], 'k--')\n",
    "    plt.xlabel(\"False Positive Rate\")\n",
    "    plt.ylabel(\"True Positive Rate\")\n",
    "    plt.title(\"ROC Curve\")\n",
    "    plt.legend()\n",
    "    plt.grid(True)\n",
    "\n",
    "    # Precision-Recall Curve\n",
    "    plt.subplot(1, 2, 2)\n",
    "    for name, y_scores in y_scores_dict.items():\n",
    "        precision, recall, _ = precision_recall_curve(y_test, y_scores)\n",
    "        ap = average_precision_score(y_test, y_scores)\n",
    "        plt.plot(recall, precision, label=f\"{name} (AP = {ap:.2f})\")\n",
    "    plt.xlabel(\"Recall\")\n",
    "    plt.ylabel(\"Precision\")\n",
    "    plt.title(\"Precision-Recall Curve\")\n",
    "    plt.legend()\n",
    "    plt.grid(True)\n",
    "\n",
    "    plt.tight_layout()\n",
    "    plt.show()\n",
    "\n"
   ]
  },
  {
   "cell_type": "code",
   "execution_count": 22,
   "id": "1bd1662c",
   "metadata": {},
   "outputs": [
    {
     "data": {
      "image/png": "[encoded data removed]",
      "text/plain": [
       "<Figure size 1200x500 with 2 Axes>"
      ]
     },
     "metadata": {},
     "output_type": "display_data"
    }
   ],
   "source": [
    "y_scores_dict = {\n",
    "    \"AdaBoost\": y_scores_ada,\n",
    "    \"HistGradientBoosting\": y_scores_hist,\n",
    "    \"XGBoost\": y_scores_xgb  # only include if trained\n",
    "}\n",
    "\n",
    "plot_model_curves(y_test, y_scores_dict)"
   ]
  },
  {
   "cell_type": "markdown",
   "id": "e385d0e6",
   "metadata": {},
   "source": [
    "### ***Confusion Matrices***"
   ]
  },
  {
   "cell_type": "code",
   "execution_count": null,
   "id": "0040cfc3",
   "metadata": {},
   "outputs": [
    {
     "data": {
      "image/png": "[encoded data removed]",
      "text/plain": [
       "<Figure size 640x480 with 2 Axes>"
      ]
     },
     "metadata": {},
     "output_type": "display_data"
    },
    {
     "data": {
      "image/png": "[encoded data removed]",
      "text/plain": [
       "<Figure size 640x480 with 2 Axes>"
      ]
     },
     "metadata": {},
     "output_type": "display_data"
    },
    {
     "data": {
      "image/png": "[encoded data removed]",
      "text/plain": [
       "<Figure size 640x480 with 2 Axes>"
      ]
     },
     "metadata": {},
     "output_type": "display_data"
    }
   ],
   "source": [
    "from sklearn.metrics import ConfusionMatrixDisplay\n",
    "\n",
    "ConfusionMatrixDisplay.from_estimator(best_models[\"AdaBoost\"], X_test, y_test, cmap='Blues')\n",
    "plt.title(\"AdaBoost Confusion Matrix\")\n",
    "plt.show()\n",
    "\n",
    "ConfusionMatrixDisplay.from_estimator(best_models[\"HistGradientBoosting\"], X_test, y_test, cmap='Greens')\n",
    "plt.title(\"Histogram Gradient Boosting Confusion Matrix\")\n",
    "plt.show()\n",
    "\n",
    "ConfusionMatrixDisplay.from_estimator(best_models[\"XGBoost\"], X_test, y_test, cmap='Reds')\n",
    "plt.title(\"XGBoost Confusion Matrix\")\n",
    "plt.show()\n"
   ]
  },
  {
   "cell_type": "markdown",
   "id": "98459884",
   "metadata": {},
   "source": [
    "#### ***Feature Importance for `XGBoost` Model***"
   ]
  },
  {
   "cell_type": "code",
   "execution_count": null,
   "id": "0f8e4cdb",
   "metadata": {},
   "outputs": [],
   "source": [
    "# Get trained pipeline and steps\n",
    "xgb_pipeline = best_models[\"XGBoost\"]\n",
    "xgb_model = xgb_pipeline.named_steps['clf']  # XGBClassifier\n",
    "preprocessor = xgb_pipeline.named_steps['preprocess']  # ColumnTransformer\n",
    "\n",
    "# Get feature names from the preprocessor\n",
    "feature_names = preprocessor.get_feature_names_out()\n",
    "\n",
    "# Extract feature importances\n",
    "importances = xgb_model.feature_importances_\n"
   ]
  },
  {
   "cell_type": "code",
   "execution_count": null,
   "id": "8f729618",
   "metadata": {},
   "outputs": [],
   "source": [
    "\n",
    "# Build DataFrame of features and importance\n",
    "xgb_feat_imp = pd.DataFrame({\n",
    "    \"Feature\": feature_names,\n",
    "    \"Importance\": importances\n",
    "}).sort_values(by=\"Importance\", ascending=False).head(15)  # Top 15\n"
   ]
  },
  {
   "cell_type": "code",
   "execution_count": null,
   "id": "89844a68",
   "metadata": {},
   "outputs": [
    {
     "data": {
      "image/png": "[encoded data removed]",
      "text/plain": [
       "<Figure size 800x600 with 1 Axes>"
      ]
     },
     "metadata": {},
     "output_type": "display_data"
    }
   ],
   "source": [
    "plt.figure(figsize=(8, 6))\n",
    "sns.barplot(data=xgb_feat_imp, x=\"Importance\", y=\"Feature\",hue=\"Feature\", palette=\"viridis\")\n",
    "plt.title(\"Top 15 Most Important Features – XGBoost\")\n",
    "plt.xlabel(\"Feature Importance\")\n",
    "plt.ylabel(\"Feature\")\n",
    "plt.tight_layout()\n",
    "plt.show()\n"
   ]
  },
  {
   "cell_type": "code",
   "execution_count": null,
   "id": "793c1a05",
   "metadata": {},
   "outputs": [],
   "source": []
  },
  {
   "cell_type": "code",
   "execution_count": null,
   "id": "7ef17e7d",
   "metadata": {},
   "outputs": [
    {
     "data": {
      "image/png": "[encoded data removed]",
      "text/plain": [
       "<Figure size 1000x700 with 1 Axes>"
      ]
     },
     "metadata": {},
     "output_type": "display_data"
    }
   ],
   "source": [
    "# Extract feature names\n",
    "feature_names = preprocessor.get_feature_names_out()\n",
    "\n",
    "# Extract feature importances\n",
    "xgb_imp = best_models[\"XGBoost\"].named_steps['clf'].feature_importances_\n",
    "ada_imp = best_models[\"AdaBoost\"].named_steps['clf'].feature_importances_\n",
    "\n",
    "# HistGradientBoosting uses same API in recent sklearn\n",
    "hist_model = best_models[\"HistGradientBoosting\"].named_steps['clf']\n",
    "hist_imp = hist_model.feature_importances_ if hasattr(hist_model, \"feature_importances_\") else [0] * len(feature_names)\n",
    "\n",
    "# Build individual dataframes\n",
    "xgb_df = pd.DataFrame({'Feature': feature_names, 'Importance': xgb_imp, 'Model': 'XGBoost'})\n",
    "ada_df = pd.DataFrame({'Feature': feature_names, 'Importance': ada_imp, 'Model': 'AdaBoost'})\n",
    "hist_df = pd.DataFrame({'Feature': feature_names, 'Importance': hist_imp, 'Model': 'HistGradientBoosting'})\n",
    "\n",
    "# Combine all\n",
    "imp_df = pd.concat([xgb_df, ada_df, hist_df])\n",
    "\n",
    "# Get top 15 overall features\n",
    "top_feats = imp_df.groupby('Feature')['Importance'].sum().sort_values(ascending=False).head(15).index\n",
    "imp_df_top15 = imp_df[imp_df['Feature'].isin(top_feats)]\n",
    "\n",
    "plt.figure(figsize=(10, 7))\n",
    "sns.barplot(data=imp_df_top15, x='Importance', y='Feature', hue='Model')\n",
    "plt.title(\"Top 15 Feature Importances Across Models\")\n",
    "plt.tight_layout()\n",
    "plt.show()\n"
   ]
  },
  {
   "cell_type": "code",
   "execution_count": null,
   "id": "e3aebc28",
   "metadata": {},
   "outputs": [],
   "source": []
  },
  {
   "cell_type": "code",
   "execution_count": null,
   "id": "cc744022",
   "metadata": {},
   "outputs": [],
   "source": []
  },
  {
   "cell_type": "code",
   "execution_count": null,
   "id": "aef8cb6f",
   "metadata": {},
   "outputs": [],
   "source": []
  },
  {
   "cell_type": "code",
   "execution_count": null,
   "id": "03f867da",
   "metadata": {},
   "outputs": [],
   "source": []
  },
  {
   "cell_type": "code",
   "execution_count": null,
   "id": "65d5fb01",
   "metadata": {},
   "outputs": [],
   "source": []
  },
  {
   "cell_type": "code",
   "execution_count": null,
   "id": "6b1f0354",
   "metadata": {},
   "outputs": [],
   "source": []
  },
  {
   "cell_type": "code",
   "execution_count": null,
   "id": "b28315b4",
   "metadata": {},
   "outputs": [],
   "source": []
  },
  {
   "cell_type": "code",
   "execution_count": null,
   "id": "3fc317b0",
   "metadata": {},
   "outputs": [],
   "source": []
  }
 ],
 "metadata": {
  "kernelspec": {
   "display_name": "base",
   "language": "python",
   "name": "python3"
  },
  "language_info": {
   "codemirror_mode": {
    "name": "ipython",
    "version": 3
   },
   "file_extension": ".py",
   "mimetype": "text/x-python",
   "name": "python",
   "nbconvert_exporter": "python",
   "pygments_lexer": "ipython3",
   "version": "3.12.3"
  }
 },
 "nbformat": 4,
 "nbformat_minor": 5
}
